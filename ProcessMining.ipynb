{
  "nbformat": 4,
  "nbformat_minor": 0,
  "metadata": {
    "colab": {
      "provenance": []
    },
    "kernelspec": {
      "name": "python3",
      "display_name": "Python 3"
    },
    "language_info": {
      "name": "python"
    },
    "widgets": {
      "application/vnd.jupyter.widget-state+json": {
        "0308f96cee284bd380e33b8cc6617852": {
          "model_module": "@jupyter-widgets/controls",
          "model_name": "HBoxModel",
          "model_module_version": "1.5.0",
          "state": {
            "_dom_classes": [],
            "_model_module": "@jupyter-widgets/controls",
            "_model_module_version": "1.5.0",
            "_model_name": "HBoxModel",
            "_view_count": null,
            "_view_module": "@jupyter-widgets/controls",
            "_view_module_version": "1.5.0",
            "_view_name": "HBoxView",
            "box_style": "",
            "children": [
              "IPY_MODEL_ac9102d8c23642a9996a679e14cc760b",
              "IPY_MODEL_a681c6c24eff409693d92bad9f173d2f",
              "IPY_MODEL_4bb834e2e12b44fc8642aecfb22495d5"
            ],
            "layout": "IPY_MODEL_d117bd3ba2cb4ab08bc8c8a7ad05f369"
          }
        },
        "ac9102d8c23642a9996a679e14cc760b": {
          "model_module": "@jupyter-widgets/controls",
          "model_name": "HTMLModel",
          "model_module_version": "1.5.0",
          "state": {
            "_dom_classes": [],
            "_model_module": "@jupyter-widgets/controls",
            "_model_module_version": "1.5.0",
            "_model_name": "HTMLModel",
            "_view_count": null,
            "_view_module": "@jupyter-widgets/controls",
            "_view_module_version": "1.5.0",
            "_view_name": "HTMLView",
            "description": "",
            "description_tooltip": null,
            "layout": "IPY_MODEL_57d9427d9ff4468486d8795ae60be17d",
            "placeholder": "​",
            "style": "IPY_MODEL_70c8ba3d944d47aa9b233a73862a5bcb",
            "value": "replaying log with TBR, completed traces :: 100%"
          }
        },
        "a681c6c24eff409693d92bad9f173d2f": {
          "model_module": "@jupyter-widgets/controls",
          "model_name": "FloatProgressModel",
          "model_module_version": "1.5.0",
          "state": {
            "_dom_classes": [],
            "_model_module": "@jupyter-widgets/controls",
            "_model_module_version": "1.5.0",
            "_model_name": "FloatProgressModel",
            "_view_count": null,
            "_view_module": "@jupyter-widgets/controls",
            "_view_module_version": "1.5.0",
            "_view_name": "ProgressView",
            "bar_style": "success",
            "description": "",
            "description_tooltip": null,
            "layout": "IPY_MODEL_27fc076ad37c4320a5284c7495f3fe46",
            "max": 15,
            "min": 0,
            "orientation": "horizontal",
            "style": "IPY_MODEL_93dab8cf171542cf9fd0f4906558f2e5",
            "value": 15
          }
        },
        "4bb834e2e12b44fc8642aecfb22495d5": {
          "model_module": "@jupyter-widgets/controls",
          "model_name": "HTMLModel",
          "model_module_version": "1.5.0",
          "state": {
            "_dom_classes": [],
            "_model_module": "@jupyter-widgets/controls",
            "_model_module_version": "1.5.0",
            "_model_name": "HTMLModel",
            "_view_count": null,
            "_view_module": "@jupyter-widgets/controls",
            "_view_module_version": "1.5.0",
            "_view_name": "HTMLView",
            "description": "",
            "description_tooltip": null,
            "layout": "IPY_MODEL_4a72fb5b50ca46699c2e3628b7186ec0",
            "placeholder": "​",
            "style": "IPY_MODEL_8feadd6ec50e447bac3128310f9b6e67",
            "value": " 15/15 [00:00&lt;00:00, 490.77it/s]"
          }
        },
        "d117bd3ba2cb4ab08bc8c8a7ad05f369": {
          "model_module": "@jupyter-widgets/base",
          "model_name": "LayoutModel",
          "model_module_version": "1.2.0",
          "state": {
            "_model_module": "@jupyter-widgets/base",
            "_model_module_version": "1.2.0",
            "_model_name": "LayoutModel",
            "_view_count": null,
            "_view_module": "@jupyter-widgets/base",
            "_view_module_version": "1.2.0",
            "_view_name": "LayoutView",
            "align_content": null,
            "align_items": null,
            "align_self": null,
            "border": null,
            "bottom": null,
            "display": null,
            "flex": null,
            "flex_flow": null,
            "grid_area": null,
            "grid_auto_columns": null,
            "grid_auto_flow": null,
            "grid_auto_rows": null,
            "grid_column": null,
            "grid_gap": null,
            "grid_row": null,
            "grid_template_areas": null,
            "grid_template_columns": null,
            "grid_template_rows": null,
            "height": null,
            "justify_content": null,
            "justify_items": null,
            "left": null,
            "margin": null,
            "max_height": null,
            "max_width": null,
            "min_height": null,
            "min_width": null,
            "object_fit": null,
            "object_position": null,
            "order": null,
            "overflow": null,
            "overflow_x": null,
            "overflow_y": null,
            "padding": null,
            "right": null,
            "top": null,
            "visibility": null,
            "width": null
          }
        },
        "57d9427d9ff4468486d8795ae60be17d": {
          "model_module": "@jupyter-widgets/base",
          "model_name": "LayoutModel",
          "model_module_version": "1.2.0",
          "state": {
            "_model_module": "@jupyter-widgets/base",
            "_model_module_version": "1.2.0",
            "_model_name": "LayoutModel",
            "_view_count": null,
            "_view_module": "@jupyter-widgets/base",
            "_view_module_version": "1.2.0",
            "_view_name": "LayoutView",
            "align_content": null,
            "align_items": null,
            "align_self": null,
            "border": null,
            "bottom": null,
            "display": null,
            "flex": null,
            "flex_flow": null,
            "grid_area": null,
            "grid_auto_columns": null,
            "grid_auto_flow": null,
            "grid_auto_rows": null,
            "grid_column": null,
            "grid_gap": null,
            "grid_row": null,
            "grid_template_areas": null,
            "grid_template_columns": null,
            "grid_template_rows": null,
            "height": null,
            "justify_content": null,
            "justify_items": null,
            "left": null,
            "margin": null,
            "max_height": null,
            "max_width": null,
            "min_height": null,
            "min_width": null,
            "object_fit": null,
            "object_position": null,
            "order": null,
            "overflow": null,
            "overflow_x": null,
            "overflow_y": null,
            "padding": null,
            "right": null,
            "top": null,
            "visibility": null,
            "width": null
          }
        },
        "70c8ba3d944d47aa9b233a73862a5bcb": {
          "model_module": "@jupyter-widgets/controls",
          "model_name": "DescriptionStyleModel",
          "model_module_version": "1.5.0",
          "state": {
            "_model_module": "@jupyter-widgets/controls",
            "_model_module_version": "1.5.0",
            "_model_name": "DescriptionStyleModel",
            "_view_count": null,
            "_view_module": "@jupyter-widgets/base",
            "_view_module_version": "1.2.0",
            "_view_name": "StyleView",
            "description_width": ""
          }
        },
        "27fc076ad37c4320a5284c7495f3fe46": {
          "model_module": "@jupyter-widgets/base",
          "model_name": "LayoutModel",
          "model_module_version": "1.2.0",
          "state": {
            "_model_module": "@jupyter-widgets/base",
            "_model_module_version": "1.2.0",
            "_model_name": "LayoutModel",
            "_view_count": null,
            "_view_module": "@jupyter-widgets/base",
            "_view_module_version": "1.2.0",
            "_view_name": "LayoutView",
            "align_content": null,
            "align_items": null,
            "align_self": null,
            "border": null,
            "bottom": null,
            "display": null,
            "flex": null,
            "flex_flow": null,
            "grid_area": null,
            "grid_auto_columns": null,
            "grid_auto_flow": null,
            "grid_auto_rows": null,
            "grid_column": null,
            "grid_gap": null,
            "grid_row": null,
            "grid_template_areas": null,
            "grid_template_columns": null,
            "grid_template_rows": null,
            "height": null,
            "justify_content": null,
            "justify_items": null,
            "left": null,
            "margin": null,
            "max_height": null,
            "max_width": null,
            "min_height": null,
            "min_width": null,
            "object_fit": null,
            "object_position": null,
            "order": null,
            "overflow": null,
            "overflow_x": null,
            "overflow_y": null,
            "padding": null,
            "right": null,
            "top": null,
            "visibility": null,
            "width": null
          }
        },
        "93dab8cf171542cf9fd0f4906558f2e5": {
          "model_module": "@jupyter-widgets/controls",
          "model_name": "ProgressStyleModel",
          "model_module_version": "1.5.0",
          "state": {
            "_model_module": "@jupyter-widgets/controls",
            "_model_module_version": "1.5.0",
            "_model_name": "ProgressStyleModel",
            "_view_count": null,
            "_view_module": "@jupyter-widgets/base",
            "_view_module_version": "1.2.0",
            "_view_name": "StyleView",
            "bar_color": null,
            "description_width": ""
          }
        },
        "4a72fb5b50ca46699c2e3628b7186ec0": {
          "model_module": "@jupyter-widgets/base",
          "model_name": "LayoutModel",
          "model_module_version": "1.2.0",
          "state": {
            "_model_module": "@jupyter-widgets/base",
            "_model_module_version": "1.2.0",
            "_model_name": "LayoutModel",
            "_view_count": null,
            "_view_module": "@jupyter-widgets/base",
            "_view_module_version": "1.2.0",
            "_view_name": "LayoutView",
            "align_content": null,
            "align_items": null,
            "align_self": null,
            "border": null,
            "bottom": null,
            "display": null,
            "flex": null,
            "flex_flow": null,
            "grid_area": null,
            "grid_auto_columns": null,
            "grid_auto_flow": null,
            "grid_auto_rows": null,
            "grid_column": null,
            "grid_gap": null,
            "grid_row": null,
            "grid_template_areas": null,
            "grid_template_columns": null,
            "grid_template_rows": null,
            "height": null,
            "justify_content": null,
            "justify_items": null,
            "left": null,
            "margin": null,
            "max_height": null,
            "max_width": null,
            "min_height": null,
            "min_width": null,
            "object_fit": null,
            "object_position": null,
            "order": null,
            "overflow": null,
            "overflow_x": null,
            "overflow_y": null,
            "padding": null,
            "right": null,
            "top": null,
            "visibility": null,
            "width": null
          }
        },
        "8feadd6ec50e447bac3128310f9b6e67": {
          "model_module": "@jupyter-widgets/controls",
          "model_name": "DescriptionStyleModel",
          "model_module_version": "1.5.0",
          "state": {
            "_model_module": "@jupyter-widgets/controls",
            "_model_module_version": "1.5.0",
            "_model_name": "DescriptionStyleModel",
            "_view_count": null,
            "_view_module": "@jupyter-widgets/base",
            "_view_module_version": "1.2.0",
            "_view_name": "StyleView",
            "description_width": ""
          }
        }
      }
    }
  },
  "cells": [
    {
      "cell_type": "code",
      "source": [
        "import pandas as pd\n",
        "pd.set_option('display.max_columns', None)\n",
        "# reading the csv file\n",
        "df = pd.read_csv(\"https://gitlab.com/healthcare2/process-mining-tutorial/-/raw/master/ArtificialPatientTreatment.csv\")"
      ],
      "metadata": {
        "id": "4F1pG05A_3Ie"
      },
      "execution_count": 1,
      "outputs": []
    },
    {
      "cell_type": "code",
      "source": [
        "# stripping the white space from the columns names and columns\n",
        "df.columns = [x.strip() for x in df.columns.to_list()]\n",
        "for col in df.columns:\n",
        "  df[f'{col}'] = df[f'{col}'].str.strip()"
      ],
      "metadata": {
        "id": "NOiDEqh1BK68"
      },
      "execution_count": 2,
      "outputs": []
    },
    {
      "cell_type": "code",
      "source": [
        "df['DateTime'] = pd.to_datetime(df['DateTime'])"
      ],
      "metadata": {
        "id": "fuV-g-9rEtf4"
      },
      "execution_count": 3,
      "outputs": []
    },
    {
      "cell_type": "code",
      "source": [
        "# overview of the table\n",
        "df.dtypes"
      ],
      "metadata": {
        "colab": {
          "base_uri": "https://localhost:8080/",
          "height": 210
        },
        "id": "Na_aWaRfE3uU",
        "outputId": "2241adbf-0f43-49a1-d5ed-6bc1d638d4ab"
      },
      "execution_count": 4,
      "outputs": [
        {
          "output_type": "execute_result",
          "data": {
            "text/plain": [
              "patient                 object\n",
              "action                  object\n",
              "org:resource            object\n",
              "DateTime        datetime64[ns]\n",
              "dtype: object"
            ],
            "text/html": [
              "<div>\n",
              "<style scoped>\n",
              "    .dataframe tbody tr th:only-of-type {\n",
              "        vertical-align: middle;\n",
              "    }\n",
              "\n",
              "    .dataframe tbody tr th {\n",
              "        vertical-align: top;\n",
              "    }\n",
              "\n",
              "    .dataframe thead th {\n",
              "        text-align: right;\n",
              "    }\n",
              "</style>\n",
              "<table border=\"1\" class=\"dataframe\">\n",
              "  <thead>\n",
              "    <tr style=\"text-align: right;\">\n",
              "      <th></th>\n",
              "      <th>0</th>\n",
              "    </tr>\n",
              "  </thead>\n",
              "  <tbody>\n",
              "    <tr>\n",
              "      <th>patient</th>\n",
              "      <td>object</td>\n",
              "    </tr>\n",
              "    <tr>\n",
              "      <th>action</th>\n",
              "      <td>object</td>\n",
              "    </tr>\n",
              "    <tr>\n",
              "      <th>org:resource</th>\n",
              "      <td>object</td>\n",
              "    </tr>\n",
              "    <tr>\n",
              "      <th>DateTime</th>\n",
              "      <td>datetime64[ns]</td>\n",
              "    </tr>\n",
              "  </tbody>\n",
              "</table>\n",
              "</div><br><label><b>dtype:</b> object</label>"
            ]
          },
          "metadata": {},
          "execution_count": 4
        }
      ]
    },
    {
      "cell_type": "code",
      "source": [
        "df.head(15)"
      ],
      "metadata": {
        "colab": {
          "base_uri": "https://localhost:8080/",
          "height": 520
        },
        "id": "Jg8kdr-dBLAy",
        "outputId": "3acd6713-376e-46f0-b364-dc9c4eae86a5"
      },
      "execution_count": 5,
      "outputs": [
        {
          "output_type": "execute_result",
          "data": {
            "text/plain": [
              "      patient          action org:resource            DateTime\n",
              "0   patient 0   First consult     Dr. Anna 2017-01-02 11:40:11\n",
              "1   patient 0      Blood test          Lab 2017-01-02 12:47:33\n",
              "2   patient 0   Physical test  Nurse Jesse 2017-01-02 12:53:50\n",
              "3   patient 0  Second consult     Dr. Anna 2017-01-02 16:21:06\n",
              "4   patient 0         Surgery  Dr. Charlie 2017-01-05 13:23:09\n",
              "5   patient 0   Final consult      Dr. Ben 2017-01-09 08:29:28\n",
              "6   patient 1   First consult     Dr. Anna 2017-01-02 12:50:35\n",
              "7   patient 1   Physical test  Nurse Jesse 2017-01-02 13:59:14\n",
              "8   patient 1      Blood test          Lab 2017-01-02 14:20:19\n",
              "9   patient 1      X-ray scan       Team 1 2017-01-06 09:13:40\n",
              "10  patient 1  Second consult     Dr. Anna 2017-01-06 10:38:04\n",
              "11  patient 1        Medicine     Pharmacy 2017-01-06 11:47:36\n",
              "12  patient 1   Final consult     Dr. Anna 2017-01-06 16:49:21\n",
              "13  patient 2   First consult     Dr. Anna 2017-01-04 10:02:49\n",
              "14  patient 2   Physical test  Nurse Jesse 2017-01-06 09:05:01"
            ],
            "text/html": [
              "\n",
              "  <div id=\"df-ae6cdbec-4490-42b0-8c43-ef5636d2d2e2\" class=\"colab-df-container\">\n",
              "    <div>\n",
              "<style scoped>\n",
              "    .dataframe tbody tr th:only-of-type {\n",
              "        vertical-align: middle;\n",
              "    }\n",
              "\n",
              "    .dataframe tbody tr th {\n",
              "        vertical-align: top;\n",
              "    }\n",
              "\n",
              "    .dataframe thead th {\n",
              "        text-align: right;\n",
              "    }\n",
              "</style>\n",
              "<table border=\"1\" class=\"dataframe\">\n",
              "  <thead>\n",
              "    <tr style=\"text-align: right;\">\n",
              "      <th></th>\n",
              "      <th>patient</th>\n",
              "      <th>action</th>\n",
              "      <th>org:resource</th>\n",
              "      <th>DateTime</th>\n",
              "    </tr>\n",
              "  </thead>\n",
              "  <tbody>\n",
              "    <tr>\n",
              "      <th>0</th>\n",
              "      <td>patient 0</td>\n",
              "      <td>First consult</td>\n",
              "      <td>Dr. Anna</td>\n",
              "      <td>2017-01-02 11:40:11</td>\n",
              "    </tr>\n",
              "    <tr>\n",
              "      <th>1</th>\n",
              "      <td>patient 0</td>\n",
              "      <td>Blood test</td>\n",
              "      <td>Lab</td>\n",
              "      <td>2017-01-02 12:47:33</td>\n",
              "    </tr>\n",
              "    <tr>\n",
              "      <th>2</th>\n",
              "      <td>patient 0</td>\n",
              "      <td>Physical test</td>\n",
              "      <td>Nurse Jesse</td>\n",
              "      <td>2017-01-02 12:53:50</td>\n",
              "    </tr>\n",
              "    <tr>\n",
              "      <th>3</th>\n",
              "      <td>patient 0</td>\n",
              "      <td>Second consult</td>\n",
              "      <td>Dr. Anna</td>\n",
              "      <td>2017-01-02 16:21:06</td>\n",
              "    </tr>\n",
              "    <tr>\n",
              "      <th>4</th>\n",
              "      <td>patient 0</td>\n",
              "      <td>Surgery</td>\n",
              "      <td>Dr. Charlie</td>\n",
              "      <td>2017-01-05 13:23:09</td>\n",
              "    </tr>\n",
              "    <tr>\n",
              "      <th>5</th>\n",
              "      <td>patient 0</td>\n",
              "      <td>Final consult</td>\n",
              "      <td>Dr. Ben</td>\n",
              "      <td>2017-01-09 08:29:28</td>\n",
              "    </tr>\n",
              "    <tr>\n",
              "      <th>6</th>\n",
              "      <td>patient 1</td>\n",
              "      <td>First consult</td>\n",
              "      <td>Dr. Anna</td>\n",
              "      <td>2017-01-02 12:50:35</td>\n",
              "    </tr>\n",
              "    <tr>\n",
              "      <th>7</th>\n",
              "      <td>patient 1</td>\n",
              "      <td>Physical test</td>\n",
              "      <td>Nurse Jesse</td>\n",
              "      <td>2017-01-02 13:59:14</td>\n",
              "    </tr>\n",
              "    <tr>\n",
              "      <th>8</th>\n",
              "      <td>patient 1</td>\n",
              "      <td>Blood test</td>\n",
              "      <td>Lab</td>\n",
              "      <td>2017-01-02 14:20:19</td>\n",
              "    </tr>\n",
              "    <tr>\n",
              "      <th>9</th>\n",
              "      <td>patient 1</td>\n",
              "      <td>X-ray scan</td>\n",
              "      <td>Team 1</td>\n",
              "      <td>2017-01-06 09:13:40</td>\n",
              "    </tr>\n",
              "    <tr>\n",
              "      <th>10</th>\n",
              "      <td>patient 1</td>\n",
              "      <td>Second consult</td>\n",
              "      <td>Dr. Anna</td>\n",
              "      <td>2017-01-06 10:38:04</td>\n",
              "    </tr>\n",
              "    <tr>\n",
              "      <th>11</th>\n",
              "      <td>patient 1</td>\n",
              "      <td>Medicine</td>\n",
              "      <td>Pharmacy</td>\n",
              "      <td>2017-01-06 11:47:36</td>\n",
              "    </tr>\n",
              "    <tr>\n",
              "      <th>12</th>\n",
              "      <td>patient 1</td>\n",
              "      <td>Final consult</td>\n",
              "      <td>Dr. Anna</td>\n",
              "      <td>2017-01-06 16:49:21</td>\n",
              "    </tr>\n",
              "    <tr>\n",
              "      <th>13</th>\n",
              "      <td>patient 2</td>\n",
              "      <td>First consult</td>\n",
              "      <td>Dr. Anna</td>\n",
              "      <td>2017-01-04 10:02:49</td>\n",
              "    </tr>\n",
              "    <tr>\n",
              "      <th>14</th>\n",
              "      <td>patient 2</td>\n",
              "      <td>Physical test</td>\n",
              "      <td>Nurse Jesse</td>\n",
              "      <td>2017-01-06 09:05:01</td>\n",
              "    </tr>\n",
              "  </tbody>\n",
              "</table>\n",
              "</div>\n",
              "    <div class=\"colab-df-buttons\">\n",
              "\n",
              "  <div class=\"colab-df-container\">\n",
              "    <button class=\"colab-df-convert\" onclick=\"convertToInteractive('df-ae6cdbec-4490-42b0-8c43-ef5636d2d2e2')\"\n",
              "            title=\"Convert this dataframe to an interactive table.\"\n",
              "            style=\"display:none;\">\n",
              "\n",
              "  <svg xmlns=\"http://www.w3.org/2000/svg\" height=\"24px\" viewBox=\"0 -960 960 960\">\n",
              "    <path d=\"M120-120v-720h720v720H120Zm60-500h600v-160H180v160Zm220 220h160v-160H400v160Zm0 220h160v-160H400v160ZM180-400h160v-160H180v160Zm440 0h160v-160H620v160ZM180-180h160v-160H180v160Zm440 0h160v-160H620v160Z\"/>\n",
              "  </svg>\n",
              "    </button>\n",
              "\n",
              "  <style>\n",
              "    .colab-df-container {\n",
              "      display:flex;\n",
              "      gap: 12px;\n",
              "    }\n",
              "\n",
              "    .colab-df-convert {\n",
              "      background-color: #E8F0FE;\n",
              "      border: none;\n",
              "      border-radius: 50%;\n",
              "      cursor: pointer;\n",
              "      display: none;\n",
              "      fill: #1967D2;\n",
              "      height: 32px;\n",
              "      padding: 0 0 0 0;\n",
              "      width: 32px;\n",
              "    }\n",
              "\n",
              "    .colab-df-convert:hover {\n",
              "      background-color: #E2EBFA;\n",
              "      box-shadow: 0px 1px 2px rgba(60, 64, 67, 0.3), 0px 1px 3px 1px rgba(60, 64, 67, 0.15);\n",
              "      fill: #174EA6;\n",
              "    }\n",
              "\n",
              "    .colab-df-buttons div {\n",
              "      margin-bottom: 4px;\n",
              "    }\n",
              "\n",
              "    [theme=dark] .colab-df-convert {\n",
              "      background-color: #3B4455;\n",
              "      fill: #D2E3FC;\n",
              "    }\n",
              "\n",
              "    [theme=dark] .colab-df-convert:hover {\n",
              "      background-color: #434B5C;\n",
              "      box-shadow: 0px 1px 3px 1px rgba(0, 0, 0, 0.15);\n",
              "      filter: drop-shadow(0px 1px 2px rgba(0, 0, 0, 0.3));\n",
              "      fill: #FFFFFF;\n",
              "    }\n",
              "  </style>\n",
              "\n",
              "    <script>\n",
              "      const buttonEl =\n",
              "        document.querySelector('#df-ae6cdbec-4490-42b0-8c43-ef5636d2d2e2 button.colab-df-convert');\n",
              "      buttonEl.style.display =\n",
              "        google.colab.kernel.accessAllowed ? 'block' : 'none';\n",
              "\n",
              "      async function convertToInteractive(key) {\n",
              "        const element = document.querySelector('#df-ae6cdbec-4490-42b0-8c43-ef5636d2d2e2');\n",
              "        const dataTable =\n",
              "          await google.colab.kernel.invokeFunction('convertToInteractive',\n",
              "                                                    [key], {});\n",
              "        if (!dataTable) return;\n",
              "\n",
              "        const docLinkHtml = 'Like what you see? Visit the ' +\n",
              "          '<a target=\"_blank\" href=https://colab.research.google.com/notebooks/data_table.ipynb>data table notebook</a>'\n",
              "          + ' to learn more about interactive tables.';\n",
              "        element.innerHTML = '';\n",
              "        dataTable['output_type'] = 'display_data';\n",
              "        await google.colab.output.renderOutput(dataTable, element);\n",
              "        const docLink = document.createElement('div');\n",
              "        docLink.innerHTML = docLinkHtml;\n",
              "        element.appendChild(docLink);\n",
              "      }\n",
              "    </script>\n",
              "  </div>\n",
              "\n",
              "\n",
              "<div id=\"df-d25d1980-e748-4b10-b283-002023c233b0\">\n",
              "  <button class=\"colab-df-quickchart\" onclick=\"quickchart('df-d25d1980-e748-4b10-b283-002023c233b0')\"\n",
              "            title=\"Suggest charts\"\n",
              "            style=\"display:none;\">\n",
              "\n",
              "<svg xmlns=\"http://www.w3.org/2000/svg\" height=\"24px\"viewBox=\"0 0 24 24\"\n",
              "     width=\"24px\">\n",
              "    <g>\n",
              "        <path d=\"M19 3H5c-1.1 0-2 .9-2 2v14c0 1.1.9 2 2 2h14c1.1 0 2-.9 2-2V5c0-1.1-.9-2-2-2zM9 17H7v-7h2v7zm4 0h-2V7h2v10zm4 0h-2v-4h2v4z\"/>\n",
              "    </g>\n",
              "</svg>\n",
              "  </button>\n",
              "\n",
              "<style>\n",
              "  .colab-df-quickchart {\n",
              "      --bg-color: #E8F0FE;\n",
              "      --fill-color: #1967D2;\n",
              "      --hover-bg-color: #E2EBFA;\n",
              "      --hover-fill-color: #174EA6;\n",
              "      --disabled-fill-color: #AAA;\n",
              "      --disabled-bg-color: #DDD;\n",
              "  }\n",
              "\n",
              "  [theme=dark] .colab-df-quickchart {\n",
              "      --bg-color: #3B4455;\n",
              "      --fill-color: #D2E3FC;\n",
              "      --hover-bg-color: #434B5C;\n",
              "      --hover-fill-color: #FFFFFF;\n",
              "      --disabled-bg-color: #3B4455;\n",
              "      --disabled-fill-color: #666;\n",
              "  }\n",
              "\n",
              "  .colab-df-quickchart {\n",
              "    background-color: var(--bg-color);\n",
              "    border: none;\n",
              "    border-radius: 50%;\n",
              "    cursor: pointer;\n",
              "    display: none;\n",
              "    fill: var(--fill-color);\n",
              "    height: 32px;\n",
              "    padding: 0;\n",
              "    width: 32px;\n",
              "  }\n",
              "\n",
              "  .colab-df-quickchart:hover {\n",
              "    background-color: var(--hover-bg-color);\n",
              "    box-shadow: 0 1px 2px rgba(60, 64, 67, 0.3), 0 1px 3px 1px rgba(60, 64, 67, 0.15);\n",
              "    fill: var(--button-hover-fill-color);\n",
              "  }\n",
              "\n",
              "  .colab-df-quickchart-complete:disabled,\n",
              "  .colab-df-quickchart-complete:disabled:hover {\n",
              "    background-color: var(--disabled-bg-color);\n",
              "    fill: var(--disabled-fill-color);\n",
              "    box-shadow: none;\n",
              "  }\n",
              "\n",
              "  .colab-df-spinner {\n",
              "    border: 2px solid var(--fill-color);\n",
              "    border-color: transparent;\n",
              "    border-bottom-color: var(--fill-color);\n",
              "    animation:\n",
              "      spin 1s steps(1) infinite;\n",
              "  }\n",
              "\n",
              "  @keyframes spin {\n",
              "    0% {\n",
              "      border-color: transparent;\n",
              "      border-bottom-color: var(--fill-color);\n",
              "      border-left-color: var(--fill-color);\n",
              "    }\n",
              "    20% {\n",
              "      border-color: transparent;\n",
              "      border-left-color: var(--fill-color);\n",
              "      border-top-color: var(--fill-color);\n",
              "    }\n",
              "    30% {\n",
              "      border-color: transparent;\n",
              "      border-left-color: var(--fill-color);\n",
              "      border-top-color: var(--fill-color);\n",
              "      border-right-color: var(--fill-color);\n",
              "    }\n",
              "    40% {\n",
              "      border-color: transparent;\n",
              "      border-right-color: var(--fill-color);\n",
              "      border-top-color: var(--fill-color);\n",
              "    }\n",
              "    60% {\n",
              "      border-color: transparent;\n",
              "      border-right-color: var(--fill-color);\n",
              "    }\n",
              "    80% {\n",
              "      border-color: transparent;\n",
              "      border-right-color: var(--fill-color);\n",
              "      border-bottom-color: var(--fill-color);\n",
              "    }\n",
              "    90% {\n",
              "      border-color: transparent;\n",
              "      border-bottom-color: var(--fill-color);\n",
              "    }\n",
              "  }\n",
              "</style>\n",
              "\n",
              "  <script>\n",
              "    async function quickchart(key) {\n",
              "      const quickchartButtonEl =\n",
              "        document.querySelector('#' + key + ' button');\n",
              "      quickchartButtonEl.disabled = true;  // To prevent multiple clicks.\n",
              "      quickchartButtonEl.classList.add('colab-df-spinner');\n",
              "      try {\n",
              "        const charts = await google.colab.kernel.invokeFunction(\n",
              "            'suggestCharts', [key], {});\n",
              "      } catch (error) {\n",
              "        console.error('Error during call to suggestCharts:', error);\n",
              "      }\n",
              "      quickchartButtonEl.classList.remove('colab-df-spinner');\n",
              "      quickchartButtonEl.classList.add('colab-df-quickchart-complete');\n",
              "    }\n",
              "    (() => {\n",
              "      let quickchartButtonEl =\n",
              "        document.querySelector('#df-d25d1980-e748-4b10-b283-002023c233b0 button');\n",
              "      quickchartButtonEl.style.display =\n",
              "        google.colab.kernel.accessAllowed ? 'block' : 'none';\n",
              "    })();\n",
              "  </script>\n",
              "</div>\n",
              "\n",
              "    </div>\n",
              "  </div>\n"
            ],
            "application/vnd.google.colaboratory.intrinsic+json": {
              "type": "dataframe",
              "variable_name": "df",
              "summary": "{\n  \"name\": \"df\",\n  \"rows\": 690,\n  \"fields\": [\n    {\n      \"column\": \"patient\",\n      \"properties\": {\n        \"dtype\": \"category\",\n        \"num_unique_values\": 100,\n        \"samples\": [\n          \"patient 83\",\n          \"patient 53\",\n          \"patient 70\"\n        ],\n        \"semantic_type\": \"\",\n        \"description\": \"\"\n      }\n    },\n    {\n      \"column\": \"action\",\n      \"properties\": {\n        \"dtype\": \"category\",\n        \"num_unique_values\": 8,\n        \"samples\": [\n          \"Blood test\",\n          \"Final consult\",\n          \"First consult\"\n        ],\n        \"semantic_type\": \"\",\n        \"description\": \"\"\n      }\n    },\n    {\n      \"column\": \"org:resource\",\n      \"properties\": {\n        \"dtype\": \"category\",\n        \"num_unique_values\": 13,\n        \"samples\": [\n          \"Dr. Alex\",\n          \"Dr. Bob\",\n          \"Dr. Anna\"\n        ],\n        \"semantic_type\": \"\",\n        \"description\": \"\"\n      }\n    },\n    {\n      \"column\": \"DateTime\",\n      \"properties\": {\n        \"dtype\": \"date\",\n        \"min\": \"2017-01-02 11:40:11\",\n        \"max\": \"2017-05-31 14:16:13\",\n        \"num_unique_values\": 690,\n        \"samples\": [\n          \"2017-03-07 15:45:53\",\n          \"2017-04-19 11:15:41\",\n          \"2017-03-07 08:55:50\"\n        ],\n        \"semantic_type\": \"\",\n        \"description\": \"\"\n      }\n    }\n  ]\n}"
            }
          },
          "metadata": {},
          "execution_count": 5
        }
      ]
    },
    {
      "cell_type": "code",
      "source": [
        "df.shape"
      ],
      "metadata": {
        "colab": {
          "base_uri": "https://localhost:8080/"
        },
        "id": "QFD9oJmHC_cD",
        "outputId": "650b5a3e-9f20-4d38-ede5-7e4c20ab7826"
      },
      "execution_count": 6,
      "outputs": [
        {
          "output_type": "execute_result",
          "data": {
            "text/plain": [
              "(690, 4)"
            ]
          },
          "metadata": {},
          "execution_count": 6
        }
      ]
    },
    {
      "cell_type": "code",
      "source": [
        "# let's undertsnad our data\n",
        "# there are 100 cases in a data\n",
        "len(df.patient.unique())"
      ],
      "metadata": {
        "colab": {
          "base_uri": "https://localhost:8080/"
        },
        "id": "PCA0EWIrBK9z",
        "outputId": "9e75d0da-5bfa-4686-a2cd-7f3a8a83bddb"
      },
      "execution_count": 7,
      "outputs": [
        {
          "output_type": "execute_result",
          "data": {
            "text/plain": [
              "100"
            ]
          },
          "metadata": {},
          "execution_count": 7
        }
      ]
    },
    {
      "cell_type": "code",
      "source": [
        "# here is a full list of the ativities, witch includes in cases\n",
        "df.action.unique()"
      ],
      "metadata": {
        "colab": {
          "base_uri": "https://localhost:8080/"
        },
        "id": "LdFnHYMgCC76",
        "outputId": "72250a73-35cf-4f38-9086-e9f1c29a2800"
      },
      "execution_count": 8,
      "outputs": [
        {
          "output_type": "execute_result",
          "data": {
            "text/plain": [
              "array(['First consult', 'Blood test', 'Physical test', 'Second consult',\n",
              "       'Surgery', 'Final consult', 'X-ray scan', 'Medicine'], dtype=object)"
            ]
          },
          "metadata": {},
          "execution_count": 8
        }
      ]
    },
    {
      "cell_type": "code",
      "source": [
        "# additinal information recorded in event log\n",
        "df['org:resource'].unique()"
      ],
      "metadata": {
        "colab": {
          "base_uri": "https://localhost:8080/"
        },
        "id": "9H4v_zYDCC5L",
        "outputId": "a7e0a1fa-131e-4076-a743-ef9bb80843e5"
      },
      "execution_count": 9,
      "outputs": [
        {
          "output_type": "execute_result",
          "data": {
            "text/plain": [
              "array(['Dr. Anna', 'Lab', 'Nurse Jesse', 'Dr. Charlie', 'Dr. Ben',\n",
              "       'Team 1', 'Pharmacy', 'Team 2', 'Nurse Corey', 'Dr. Bob',\n",
              "       'Dr. Rudy', 'Dr. Alex', 'Dr. Quinn'], dtype=object)"
            ]
          },
          "metadata": {},
          "execution_count": 9
        }
      ]
    },
    {
      "cell_type": "markdown",
      "source": [
        "## Process mining"
      ],
      "metadata": {
        "id": "0OYlrKZiqBZb"
      }
    },
    {
      "cell_type": "code",
      "source": [
        "# installing the pm4py package\n",
        "!pip install pm4py"
      ],
      "metadata": {
        "colab": {
          "base_uri": "https://localhost:8080/"
        },
        "id": "PQMDxLvZCC2f",
        "outputId": "f7c610cd-e614-46c3-9930-655029db4a67"
      },
      "execution_count": 10,
      "outputs": [
        {
          "output_type": "stream",
          "name": "stdout",
          "text": [
            "Collecting pm4py\n",
            "  Downloading pm4py-2.7.14.3-py3-none-any.whl.metadata (4.4 kB)\n",
            "Requirement already satisfied: numpy in /usr/local/lib/python3.11/dist-packages (from pm4py) (2.0.2)\n",
            "Requirement already satisfied: pandas in /usr/local/lib/python3.11/dist-packages (from pm4py) (2.2.2)\n",
            "Collecting deprecation (from pm4py)\n",
            "  Downloading deprecation-2.1.0-py2.py3-none-any.whl.metadata (4.6 kB)\n",
            "Requirement already satisfied: networkx in /usr/local/lib/python3.11/dist-packages (from pm4py) (3.4.2)\n",
            "Requirement already satisfied: graphviz in /usr/local/lib/python3.11/dist-packages (from pm4py) (0.20.3)\n",
            "Requirement already satisfied: wheel in /usr/local/lib/python3.11/dist-packages (from pm4py) (0.45.1)\n",
            "Requirement already satisfied: setuptools in /usr/local/lib/python3.11/dist-packages (from pm4py) (75.1.0)\n",
            "Collecting intervaltree (from pm4py)\n",
            "  Downloading intervaltree-3.1.0.tar.gz (32 kB)\n",
            "  Preparing metadata (setup.py) ... \u001b[?25l\u001b[?25hdone\n",
            "Requirement already satisfied: lxml in /usr/local/lib/python3.11/dist-packages (from pm4py) (5.3.1)\n",
            "Requirement already satisfied: matplotlib in /usr/local/lib/python3.11/dist-packages (from pm4py) (3.10.0)\n",
            "Requirement already satisfied: pydotplus in /usr/local/lib/python3.11/dist-packages (from pm4py) (2.0.2)\n",
            "Requirement already satisfied: pytz in /usr/local/lib/python3.11/dist-packages (from pm4py) (2025.1)\n",
            "Requirement already satisfied: scipy in /usr/local/lib/python3.11/dist-packages (from pm4py) (1.14.1)\n",
            "Requirement already satisfied: tqdm in /usr/local/lib/python3.11/dist-packages (from pm4py) (4.67.1)\n",
            "Requirement already satisfied: cvxopt in /usr/local/lib/python3.11/dist-packages (from pm4py) (1.3.2)\n",
            "Requirement already satisfied: packaging in /usr/local/lib/python3.11/dist-packages (from deprecation->pm4py) (24.2)\n",
            "Requirement already satisfied: sortedcontainers<3.0,>=2.0 in /usr/local/lib/python3.11/dist-packages (from intervaltree->pm4py) (2.4.0)\n",
            "Requirement already satisfied: contourpy>=1.0.1 in /usr/local/lib/python3.11/dist-packages (from matplotlib->pm4py) (1.3.1)\n",
            "Requirement already satisfied: cycler>=0.10 in /usr/local/lib/python3.11/dist-packages (from matplotlib->pm4py) (0.12.1)\n",
            "Requirement already satisfied: fonttools>=4.22.0 in /usr/local/lib/python3.11/dist-packages (from matplotlib->pm4py) (4.56.0)\n",
            "Requirement already satisfied: kiwisolver>=1.3.1 in /usr/local/lib/python3.11/dist-packages (from matplotlib->pm4py) (1.4.8)\n",
            "Requirement already satisfied: pillow>=8 in /usr/local/lib/python3.11/dist-packages (from matplotlib->pm4py) (11.1.0)\n",
            "Requirement already satisfied: pyparsing>=2.3.1 in /usr/local/lib/python3.11/dist-packages (from matplotlib->pm4py) (3.2.1)\n",
            "Requirement already satisfied: python-dateutil>=2.7 in /usr/local/lib/python3.11/dist-packages (from matplotlib->pm4py) (2.8.2)\n",
            "Requirement already satisfied: tzdata>=2022.7 in /usr/local/lib/python3.11/dist-packages (from pandas->pm4py) (2025.1)\n",
            "Requirement already satisfied: six>=1.5 in /usr/local/lib/python3.11/dist-packages (from python-dateutil>=2.7->matplotlib->pm4py) (1.17.0)\n",
            "Downloading pm4py-2.7.14.3-py3-none-any.whl (2.1 MB)\n",
            "\u001b[2K   \u001b[90m━━━━━━━━━━━━━━━━━━━━━━━━━━━━━━━━━━━━━━━━\u001b[0m \u001b[32m2.1/2.1 MB\u001b[0m \u001b[31m19.5 MB/s\u001b[0m eta \u001b[36m0:00:00\u001b[0m\n",
            "\u001b[?25hDownloading deprecation-2.1.0-py2.py3-none-any.whl (11 kB)\n",
            "Building wheels for collected packages: intervaltree\n",
            "  Building wheel for intervaltree (setup.py) ... \u001b[?25l\u001b[?25hdone\n",
            "  Created wheel for intervaltree: filename=intervaltree-3.1.0-py2.py3-none-any.whl size=26097 sha256=6486e991a47248710dc0d18480233bfefd9effca79f6c71335d00d0bd6c1e992\n",
            "  Stored in directory: /root/.cache/pip/wheels/31/d7/d9/eec6891f78cac19a693bd40ecb8365d2f4613318c145ec9816\n",
            "Successfully built intervaltree\n",
            "Installing collected packages: intervaltree, deprecation, pm4py\n",
            "Successfully installed deprecation-2.1.0 intervaltree-3.1.0 pm4py-2.7.14.3\n"
          ]
        }
      ]
    },
    {
      "cell_type": "code",
      "source": [
        "import pm4py\n",
        "from pm4py.objects.conversion.log import converter as log_converter\n",
        "\n",
        "# converting the pandas df to the event log\n",
        "log_dataframe = pm4py.format_dataframe(df, case_id='patient', activity_key='action',\n",
        "                                    timestamp_key='DateTime')"
      ],
      "metadata": {
        "colab": {
          "base_uri": "https://localhost:8080/"
        },
        "id": "mGeLo1xyCC0A",
        "outputId": "9cc362ed-f8a9-43d7-ebea-1abf34852150"
      },
      "execution_count": 12,
      "outputs": [
        {
          "output_type": "stream",
          "name": "stderr",
          "text": [
            "/usr/local/lib/python3.11/dist-packages/cudf/utils/_ptxcompiler.py:64: UserWarning: Error getting driver and runtime versions:\n",
            "\n",
            "stdout:\n",
            "\n",
            "\n",
            "\n",
            "stderr:\n",
            "\n",
            "Traceback (most recent call last):\n",
            "  File \"<string>\", line 4, in <module>\n",
            "  File \"/usr/local/lib/python3.11/dist-packages/numba_cuda/numba/cuda/cudadrv/driver.py\", line 314, in __getattr__\n",
            "    raise CudaSupportError(\"Error at driver init: \\n%s:\" %\n",
            "numba.cuda.cudadrv.error.CudaSupportError: Error at driver init: \n",
            "\n",
            "CUDA driver library cannot be found.\n",
            "If you are sure that a CUDA driver is installed,\n",
            "try setting environment variable NUMBA_CUDA_DRIVER\n",
            "with the file path of the CUDA driver shared library.\n",
            ":\n",
            "\n",
            "\n",
            "Not patching Numba\n",
            "  warnings.warn(msg, UserWarning)\n",
            "/usr/local/lib/python3.11/dist-packages/cudf/utils/gpu_utils.py:62: UserWarning: Failed to dlopen libcuda.so.1\n",
            "  warnings.warn(str(e))\n"
          ]
        }
      ]
    },
    {
      "cell_type": "code",
      "source": [
        "log_dataframe.head()"
      ],
      "metadata": {
        "colab": {
          "base_uri": "https://localhost:8080/",
          "height": 400
        },
        "id": "rdkz5XhOCCxS",
        "outputId": "6b9020c2-1c21-4806-8e79-af58b13fa03a"
      },
      "execution_count": 13,
      "outputs": [
        {
          "output_type": "execute_result",
          "data": {
            "text/plain": [
              "     patient          action org:resource            DateTime  \\\n",
              "0  patient 0   First consult     Dr. Anna 2017-01-02 11:40:11   \n",
              "1  patient 0      Blood test          Lab 2017-01-02 12:47:33   \n",
              "2  patient 0   Physical test  Nurse Jesse 2017-01-02 12:53:50   \n",
              "3  patient 0  Second consult     Dr. Anna 2017-01-02 16:21:06   \n",
              "4  patient 0         Surgery  Dr. Charlie 2017-01-05 13:23:09   \n",
              "\n",
              "  case:concept:name    concept:name      time:timestamp  @@index  @@case_index  \n",
              "0         patient 0   First consult 2017-01-02 11:40:11        0             0  \n",
              "1         patient 0      Blood test 2017-01-02 12:47:33        1             0  \n",
              "2         patient 0   Physical test 2017-01-02 12:53:50        2             0  \n",
              "3         patient 0  Second consult 2017-01-02 16:21:06        3             0  \n",
              "4         patient 0         Surgery 2017-01-05 13:23:09        4             0  "
            ],
            "text/html": [
              "\n",
              "  <div id=\"df-f75eb57d-73b2-4491-a139-7d8540f24879\" class=\"colab-df-container\">\n",
              "    <div>\n",
              "<style scoped>\n",
              "    .dataframe tbody tr th:only-of-type {\n",
              "        vertical-align: middle;\n",
              "    }\n",
              "\n",
              "    .dataframe tbody tr th {\n",
              "        vertical-align: top;\n",
              "    }\n",
              "\n",
              "    .dataframe thead th {\n",
              "        text-align: right;\n",
              "    }\n",
              "</style>\n",
              "<table border=\"1\" class=\"dataframe\">\n",
              "  <thead>\n",
              "    <tr style=\"text-align: right;\">\n",
              "      <th></th>\n",
              "      <th>patient</th>\n",
              "      <th>action</th>\n",
              "      <th>org:resource</th>\n",
              "      <th>DateTime</th>\n",
              "      <th>case:concept:name</th>\n",
              "      <th>concept:name</th>\n",
              "      <th>time:timestamp</th>\n",
              "      <th>@@index</th>\n",
              "      <th>@@case_index</th>\n",
              "    </tr>\n",
              "  </thead>\n",
              "  <tbody>\n",
              "    <tr>\n",
              "      <th>0</th>\n",
              "      <td>patient 0</td>\n",
              "      <td>First consult</td>\n",
              "      <td>Dr. Anna</td>\n",
              "      <td>2017-01-02 11:40:11</td>\n",
              "      <td>patient 0</td>\n",
              "      <td>First consult</td>\n",
              "      <td>2017-01-02 11:40:11</td>\n",
              "      <td>0</td>\n",
              "      <td>0</td>\n",
              "    </tr>\n",
              "    <tr>\n",
              "      <th>1</th>\n",
              "      <td>patient 0</td>\n",
              "      <td>Blood test</td>\n",
              "      <td>Lab</td>\n",
              "      <td>2017-01-02 12:47:33</td>\n",
              "      <td>patient 0</td>\n",
              "      <td>Blood test</td>\n",
              "      <td>2017-01-02 12:47:33</td>\n",
              "      <td>1</td>\n",
              "      <td>0</td>\n",
              "    </tr>\n",
              "    <tr>\n",
              "      <th>2</th>\n",
              "      <td>patient 0</td>\n",
              "      <td>Physical test</td>\n",
              "      <td>Nurse Jesse</td>\n",
              "      <td>2017-01-02 12:53:50</td>\n",
              "      <td>patient 0</td>\n",
              "      <td>Physical test</td>\n",
              "      <td>2017-01-02 12:53:50</td>\n",
              "      <td>2</td>\n",
              "      <td>0</td>\n",
              "    </tr>\n",
              "    <tr>\n",
              "      <th>3</th>\n",
              "      <td>patient 0</td>\n",
              "      <td>Second consult</td>\n",
              "      <td>Dr. Anna</td>\n",
              "      <td>2017-01-02 16:21:06</td>\n",
              "      <td>patient 0</td>\n",
              "      <td>Second consult</td>\n",
              "      <td>2017-01-02 16:21:06</td>\n",
              "      <td>3</td>\n",
              "      <td>0</td>\n",
              "    </tr>\n",
              "    <tr>\n",
              "      <th>4</th>\n",
              "      <td>patient 0</td>\n",
              "      <td>Surgery</td>\n",
              "      <td>Dr. Charlie</td>\n",
              "      <td>2017-01-05 13:23:09</td>\n",
              "      <td>patient 0</td>\n",
              "      <td>Surgery</td>\n",
              "      <td>2017-01-05 13:23:09</td>\n",
              "      <td>4</td>\n",
              "      <td>0</td>\n",
              "    </tr>\n",
              "  </tbody>\n",
              "</table>\n",
              "</div>\n",
              "    <div class=\"colab-df-buttons\">\n",
              "\n",
              "  <div class=\"colab-df-container\">\n",
              "    <button class=\"colab-df-convert\" onclick=\"convertToInteractive('df-f75eb57d-73b2-4491-a139-7d8540f24879')\"\n",
              "            title=\"Convert this dataframe to an interactive table.\"\n",
              "            style=\"display:none;\">\n",
              "\n",
              "  <svg xmlns=\"http://www.w3.org/2000/svg\" height=\"24px\" viewBox=\"0 -960 960 960\">\n",
              "    <path d=\"M120-120v-720h720v720H120Zm60-500h600v-160H180v160Zm220 220h160v-160H400v160Zm0 220h160v-160H400v160ZM180-400h160v-160H180v160Zm440 0h160v-160H620v160ZM180-180h160v-160H180v160Zm440 0h160v-160H620v160Z\"/>\n",
              "  </svg>\n",
              "    </button>\n",
              "\n",
              "  <style>\n",
              "    .colab-df-container {\n",
              "      display:flex;\n",
              "      gap: 12px;\n",
              "    }\n",
              "\n",
              "    .colab-df-convert {\n",
              "      background-color: #E8F0FE;\n",
              "      border: none;\n",
              "      border-radius: 50%;\n",
              "      cursor: pointer;\n",
              "      display: none;\n",
              "      fill: #1967D2;\n",
              "      height: 32px;\n",
              "      padding: 0 0 0 0;\n",
              "      width: 32px;\n",
              "    }\n",
              "\n",
              "    .colab-df-convert:hover {\n",
              "      background-color: #E2EBFA;\n",
              "      box-shadow: 0px 1px 2px rgba(60, 64, 67, 0.3), 0px 1px 3px 1px rgba(60, 64, 67, 0.15);\n",
              "      fill: #174EA6;\n",
              "    }\n",
              "\n",
              "    .colab-df-buttons div {\n",
              "      margin-bottom: 4px;\n",
              "    }\n",
              "\n",
              "    [theme=dark] .colab-df-convert {\n",
              "      background-color: #3B4455;\n",
              "      fill: #D2E3FC;\n",
              "    }\n",
              "\n",
              "    [theme=dark] .colab-df-convert:hover {\n",
              "      background-color: #434B5C;\n",
              "      box-shadow: 0px 1px 3px 1px rgba(0, 0, 0, 0.15);\n",
              "      filter: drop-shadow(0px 1px 2px rgba(0, 0, 0, 0.3));\n",
              "      fill: #FFFFFF;\n",
              "    }\n",
              "  </style>\n",
              "\n",
              "    <script>\n",
              "      const buttonEl =\n",
              "        document.querySelector('#df-f75eb57d-73b2-4491-a139-7d8540f24879 button.colab-df-convert');\n",
              "      buttonEl.style.display =\n",
              "        google.colab.kernel.accessAllowed ? 'block' : 'none';\n",
              "\n",
              "      async function convertToInteractive(key) {\n",
              "        const element = document.querySelector('#df-f75eb57d-73b2-4491-a139-7d8540f24879');\n",
              "        const dataTable =\n",
              "          await google.colab.kernel.invokeFunction('convertToInteractive',\n",
              "                                                    [key], {});\n",
              "        if (!dataTable) return;\n",
              "\n",
              "        const docLinkHtml = 'Like what you see? Visit the ' +\n",
              "          '<a target=\"_blank\" href=https://colab.research.google.com/notebooks/data_table.ipynb>data table notebook</a>'\n",
              "          + ' to learn more about interactive tables.';\n",
              "        element.innerHTML = '';\n",
              "        dataTable['output_type'] = 'display_data';\n",
              "        await google.colab.output.renderOutput(dataTable, element);\n",
              "        const docLink = document.createElement('div');\n",
              "        docLink.innerHTML = docLinkHtml;\n",
              "        element.appendChild(docLink);\n",
              "      }\n",
              "    </script>\n",
              "  </div>\n",
              "\n",
              "\n",
              "<div id=\"df-ce4d32a6-3a5f-4c48-b3db-9b235e2dd450\">\n",
              "  <button class=\"colab-df-quickchart\" onclick=\"quickchart('df-ce4d32a6-3a5f-4c48-b3db-9b235e2dd450')\"\n",
              "            title=\"Suggest charts\"\n",
              "            style=\"display:none;\">\n",
              "\n",
              "<svg xmlns=\"http://www.w3.org/2000/svg\" height=\"24px\"viewBox=\"0 0 24 24\"\n",
              "     width=\"24px\">\n",
              "    <g>\n",
              "        <path d=\"M19 3H5c-1.1 0-2 .9-2 2v14c0 1.1.9 2 2 2h14c1.1 0 2-.9 2-2V5c0-1.1-.9-2-2-2zM9 17H7v-7h2v7zm4 0h-2V7h2v10zm4 0h-2v-4h2v4z\"/>\n",
              "    </g>\n",
              "</svg>\n",
              "  </button>\n",
              "\n",
              "<style>\n",
              "  .colab-df-quickchart {\n",
              "      --bg-color: #E8F0FE;\n",
              "      --fill-color: #1967D2;\n",
              "      --hover-bg-color: #E2EBFA;\n",
              "      --hover-fill-color: #174EA6;\n",
              "      --disabled-fill-color: #AAA;\n",
              "      --disabled-bg-color: #DDD;\n",
              "  }\n",
              "\n",
              "  [theme=dark] .colab-df-quickchart {\n",
              "      --bg-color: #3B4455;\n",
              "      --fill-color: #D2E3FC;\n",
              "      --hover-bg-color: #434B5C;\n",
              "      --hover-fill-color: #FFFFFF;\n",
              "      --disabled-bg-color: #3B4455;\n",
              "      --disabled-fill-color: #666;\n",
              "  }\n",
              "\n",
              "  .colab-df-quickchart {\n",
              "    background-color: var(--bg-color);\n",
              "    border: none;\n",
              "    border-radius: 50%;\n",
              "    cursor: pointer;\n",
              "    display: none;\n",
              "    fill: var(--fill-color);\n",
              "    height: 32px;\n",
              "    padding: 0;\n",
              "    width: 32px;\n",
              "  }\n",
              "\n",
              "  .colab-df-quickchart:hover {\n",
              "    background-color: var(--hover-bg-color);\n",
              "    box-shadow: 0 1px 2px rgba(60, 64, 67, 0.3), 0 1px 3px 1px rgba(60, 64, 67, 0.15);\n",
              "    fill: var(--button-hover-fill-color);\n",
              "  }\n",
              "\n",
              "  .colab-df-quickchart-complete:disabled,\n",
              "  .colab-df-quickchart-complete:disabled:hover {\n",
              "    background-color: var(--disabled-bg-color);\n",
              "    fill: var(--disabled-fill-color);\n",
              "    box-shadow: none;\n",
              "  }\n",
              "\n",
              "  .colab-df-spinner {\n",
              "    border: 2px solid var(--fill-color);\n",
              "    border-color: transparent;\n",
              "    border-bottom-color: var(--fill-color);\n",
              "    animation:\n",
              "      spin 1s steps(1) infinite;\n",
              "  }\n",
              "\n",
              "  @keyframes spin {\n",
              "    0% {\n",
              "      border-color: transparent;\n",
              "      border-bottom-color: var(--fill-color);\n",
              "      border-left-color: var(--fill-color);\n",
              "    }\n",
              "    20% {\n",
              "      border-color: transparent;\n",
              "      border-left-color: var(--fill-color);\n",
              "      border-top-color: var(--fill-color);\n",
              "    }\n",
              "    30% {\n",
              "      border-color: transparent;\n",
              "      border-left-color: var(--fill-color);\n",
              "      border-top-color: var(--fill-color);\n",
              "      border-right-color: var(--fill-color);\n",
              "    }\n",
              "    40% {\n",
              "      border-color: transparent;\n",
              "      border-right-color: var(--fill-color);\n",
              "      border-top-color: var(--fill-color);\n",
              "    }\n",
              "    60% {\n",
              "      border-color: transparent;\n",
              "      border-right-color: var(--fill-color);\n",
              "    }\n",
              "    80% {\n",
              "      border-color: transparent;\n",
              "      border-right-color: var(--fill-color);\n",
              "      border-bottom-color: var(--fill-color);\n",
              "    }\n",
              "    90% {\n",
              "      border-color: transparent;\n",
              "      border-bottom-color: var(--fill-color);\n",
              "    }\n",
              "  }\n",
              "</style>\n",
              "\n",
              "  <script>\n",
              "    async function quickchart(key) {\n",
              "      const quickchartButtonEl =\n",
              "        document.querySelector('#' + key + ' button');\n",
              "      quickchartButtonEl.disabled = true;  // To prevent multiple clicks.\n",
              "      quickchartButtonEl.classList.add('colab-df-spinner');\n",
              "      try {\n",
              "        const charts = await google.colab.kernel.invokeFunction(\n",
              "            'suggestCharts', [key], {});\n",
              "      } catch (error) {\n",
              "        console.error('Error during call to suggestCharts:', error);\n",
              "      }\n",
              "      quickchartButtonEl.classList.remove('colab-df-spinner');\n",
              "      quickchartButtonEl.classList.add('colab-df-quickchart-complete');\n",
              "    }\n",
              "    (() => {\n",
              "      let quickchartButtonEl =\n",
              "        document.querySelector('#df-ce4d32a6-3a5f-4c48-b3db-9b235e2dd450 button');\n",
              "      quickchartButtonEl.style.display =\n",
              "        google.colab.kernel.accessAllowed ? 'block' : 'none';\n",
              "    })();\n",
              "  </script>\n",
              "</div>\n",
              "\n",
              "    </div>\n",
              "  </div>\n"
            ],
            "application/vnd.google.colaboratory.intrinsic+json": {
              "type": "dataframe",
              "summary": "{\n  \"name\": \"log_dataframe\",\n  \"rows\": 5,\n  \"fields\": [\n    {\n      \"column\": \"patient\",\n      \"properties\": {\n        \"dtype\": \"category\",\n        \"num_unique_values\": 1,\n        \"samples\": [\n          \"patient 0\"\n        ],\n        \"semantic_type\": \"\",\n        \"description\": \"\"\n      }\n    },\n    {\n      \"column\": \"action\",\n      \"properties\": {\n        \"dtype\": \"string\",\n        \"num_unique_values\": 5,\n        \"samples\": [\n          \"Blood test\"\n        ],\n        \"semantic_type\": \"\",\n        \"description\": \"\"\n      }\n    },\n    {\n      \"column\": \"org:resource\",\n      \"properties\": {\n        \"dtype\": \"string\",\n        \"num_unique_values\": 4,\n        \"samples\": [\n          \"Lab\"\n        ],\n        \"semantic_type\": \"\",\n        \"description\": \"\"\n      }\n    },\n    {\n      \"column\": \"DateTime\",\n      \"properties\": {\n        \"dtype\": \"date\",\n        \"min\": \"2017-01-02 11:40:11\",\n        \"max\": \"2017-01-05 13:23:09\",\n        \"num_unique_values\": 5,\n        \"samples\": [\n          \"2017-01-02 12:47:33\"\n        ],\n        \"semantic_type\": \"\",\n        \"description\": \"\"\n      }\n    },\n    {\n      \"column\": \"case:concept:name\",\n      \"properties\": {\n        \"dtype\": \"string\",\n        \"num_unique_values\": 1,\n        \"samples\": [\n          \"patient 0\"\n        ],\n        \"semantic_type\": \"\",\n        \"description\": \"\"\n      }\n    },\n    {\n      \"column\": \"concept:name\",\n      \"properties\": {\n        \"dtype\": \"string\",\n        \"num_unique_values\": 5,\n        \"samples\": [\n          \"Blood test\"\n        ],\n        \"semantic_type\": \"\",\n        \"description\": \"\"\n      }\n    },\n    {\n      \"column\": \"time:timestamp\",\n      \"properties\": {\n        \"dtype\": \"date\",\n        \"min\": \"2017-01-02 11:40:11\",\n        \"max\": \"2017-01-05 13:23:09\",\n        \"num_unique_values\": 5,\n        \"samples\": [\n          \"2017-01-02 12:47:33\"\n        ],\n        \"semantic_type\": \"\",\n        \"description\": \"\"\n      }\n    },\n    {\n      \"column\": \"@@index\",\n      \"properties\": {\n        \"dtype\": \"number\",\n        \"std\": 1,\n        \"min\": 0,\n        \"max\": 4,\n        \"num_unique_values\": 5,\n        \"samples\": [\n          1\n        ],\n        \"semantic_type\": \"\",\n        \"description\": \"\"\n      }\n    },\n    {\n      \"column\": \"@@case_index\",\n      \"properties\": {\n        \"dtype\": \"number\",\n        \"std\": 0,\n        \"min\": 0,\n        \"max\": 0,\n        \"num_unique_values\": 1,\n        \"samples\": [\n          0\n        ],\n        \"semantic_type\": \"\",\n        \"description\": \"\"\n      }\n    }\n  ]\n}"
            }
          },
          "metadata": {},
          "execution_count": 13
        }
      ]
    },
    {
      "cell_type": "code",
      "source": [
        "# define the start and end activities\n",
        "start_activities = pm4py.get_start_activities(log_dataframe)\n",
        "end_activities = pm4py.get_end_activities(log_dataframe)"
      ],
      "metadata": {
        "id": "X9ccGRzx0-ib"
      },
      "execution_count": 14,
      "outputs": []
    },
    {
      "cell_type": "code",
      "source": [
        "# since it is sintetically generated data - we have 100 completed cases\n",
        "start_activities, end_activities"
      ],
      "metadata": {
        "colab": {
          "base_uri": "https://localhost:8080/"
        },
        "id": "SI9yR0IACCuc",
        "outputId": "0cfca3ee-4b54-40c8-bd3c-a57c545bb65f"
      },
      "execution_count": 15,
      "outputs": [
        {
          "output_type": "execute_result",
          "data": {
            "text/plain": [
              "({'First consult': 100}, {'Final consult': 100})"
            ]
          },
          "metadata": {},
          "execution_count": 15
        }
      ]
    },
    {
      "cell_type": "code",
      "source": [
        "# lets review the variability of the cases\n",
        "variants = pm4py.get_variants(\n",
        "    log_dataframe,\n",
        "    activity_key='concept:name',\n",
        "    case_id_key='case:concept:name',\n",
        "    timestamp_key='time:timestamp'\n",
        ")"
      ],
      "metadata": {
        "id": "bVvFCIm0FmpH"
      },
      "execution_count": 16,
      "outputs": []
    },
    {
      "cell_type": "code",
      "source": [
        "# print sorted variants\n",
        "{k: v for k, v in sorted(variants.items(), key=lambda item: item[1])}"
      ],
      "metadata": {
        "colab": {
          "base_uri": "https://localhost:8080/"
        },
        "id": "FPxoAU2EFmma",
        "outputId": "e0c009f8-1b22-4e7e-afa2-b8648212240e"
      },
      "execution_count": 17,
      "outputs": [
        {
          "output_type": "execute_result",
          "data": {
            "text/plain": [
              "{('First consult',\n",
              "  'Blood test',\n",
              "  'Physical test',\n",
              "  'Second consult',\n",
              "  'Surgery',\n",
              "  'Final consult'): 2,\n",
              " ('First consult',\n",
              "  'Physical test',\n",
              "  'Blood test',\n",
              "  'Second consult',\n",
              "  'Surgery',\n",
              "  'Final consult'): 2,\n",
              " ('First consult',\n",
              "  'X-ray scan',\n",
              "  'Physical test',\n",
              "  'Blood test',\n",
              "  'Second consult',\n",
              "  'Surgery',\n",
              "  'Final consult'): 2,\n",
              " ('First consult',\n",
              "  'Physical test',\n",
              "  'Blood test',\n",
              "  'Second consult',\n",
              "  'Medicine',\n",
              "  'Final consult'): 3,\n",
              " ('First consult',\n",
              "  'Blood test',\n",
              "  'Physical test',\n",
              "  'Second consult',\n",
              "  'Medicine',\n",
              "  'Final consult'): 3,\n",
              " ('First consult',\n",
              "  'Physical test',\n",
              "  'X-ray scan',\n",
              "  'Blood test',\n",
              "  'Second consult',\n",
              "  'Surgery',\n",
              "  'Final consult'): 3,\n",
              " ('First consult',\n",
              "  'Blood test',\n",
              "  'Physical test',\n",
              "  'X-ray scan',\n",
              "  'Second consult',\n",
              "  'Surgery',\n",
              "  'Final consult'): 3,\n",
              " ('First consult',\n",
              "  'Physical test',\n",
              "  'Blood test',\n",
              "  'X-ray scan',\n",
              "  'Second consult',\n",
              "  'Surgery',\n",
              "  'Final consult'): 4,\n",
              " ('First consult',\n",
              "  'X-ray scan',\n",
              "  'Blood test',\n",
              "  'Physical test',\n",
              "  'Second consult',\n",
              "  'Surgery',\n",
              "  'Final consult'): 4,\n",
              " ('First consult',\n",
              "  'X-ray scan',\n",
              "  'Blood test',\n",
              "  'Physical test',\n",
              "  'Second consult',\n",
              "  'Medicine',\n",
              "  'Final consult'): 9,\n",
              " ('First consult',\n",
              "  'Physical test',\n",
              "  'Blood test',\n",
              "  'X-ray scan',\n",
              "  'Second consult',\n",
              "  'Medicine',\n",
              "  'Final consult'): 10,\n",
              " ('First consult',\n",
              "  'Physical test',\n",
              "  'X-ray scan',\n",
              "  'Blood test',\n",
              "  'Second consult',\n",
              "  'Medicine',\n",
              "  'Final consult'): 11,\n",
              " ('First consult',\n",
              "  'X-ray scan',\n",
              "  'Physical test',\n",
              "  'Blood test',\n",
              "  'Second consult',\n",
              "  'Medicine',\n",
              "  'Final consult'): 12,\n",
              " ('First consult',\n",
              "  'Blood test',\n",
              "  'Physical test',\n",
              "  'X-ray scan',\n",
              "  'Second consult',\n",
              "  'Medicine',\n",
              "  'Final consult'): 14,\n",
              " ('First consult',\n",
              "  'Blood test',\n",
              "  'X-ray scan',\n",
              "  'Physical test',\n",
              "  'Second consult',\n",
              "  'Medicine',\n",
              "  'Final consult'): 18}"
            ]
          },
          "metadata": {},
          "execution_count": 17
        }
      ]
    },
    {
      "cell_type": "code",
      "source": [
        "# all case duration\n",
        "# computes durations of business hours by default; otherwise, uses calendar time.\n",
        "case_durations = pm4py.get_all_case_durations(\n",
        "    log_dataframe,\n",
        "    activity_key='concept:name',\n",
        "    case_id_key='case:concept:name',\n",
        "    timestamp_key='time:timestamp'\n",
        ")"
      ],
      "metadata": {
        "id": "B50FGMr-HYzS"
      },
      "execution_count": 18,
      "outputs": []
    },
    {
      "cell_type": "code",
      "source": [
        "# just out of curriousity decided to calcualte it manualy and compare it with the library output\n",
        "newdf = df.groupby('patient', as_index=False)['time:timestamp'].agg(['min', 'max'])"
      ],
      "metadata": {
        "id": "e_aVfq614zsq"
      },
      "execution_count": 19,
      "outputs": []
    },
    {
      "cell_type": "code",
      "source": [
        "newdf['diff'] = newdf['max'] - newdf['min']"
      ],
      "metadata": {
        "id": "Tysj02kd5hV5"
      },
      "execution_count": 20,
      "outputs": []
    },
    {
      "cell_type": "code",
      "source": [
        "newdf['diff'].describe()"
      ],
      "metadata": {
        "colab": {
          "base_uri": "https://localhost:8080/",
          "height": 335
        },
        "id": "OXspfKFP5hTa",
        "outputId": "e8572b00-c270-40c5-bd68-daf263077e87"
      },
      "execution_count": 21,
      "outputs": [
        {
          "output_type": "execute_result",
          "data": {
            "text/plain": [
              "count                          100\n",
              "mean        9 days 13:50:56.440000\n",
              "std      3 days 13:03:21.195525489\n",
              "min                1 days 01:34:04\n",
              "25%         7 days 00:38:59.750000\n",
              "50%         9 days 11:40:33.500000\n",
              "75%        11 days 21:09:11.250000\n",
              "max               17 days 02:43:04\n",
              "Name: diff, dtype: object"
            ],
            "text/html": [
              "<div>\n",
              "<style scoped>\n",
              "    .dataframe tbody tr th:only-of-type {\n",
              "        vertical-align: middle;\n",
              "    }\n",
              "\n",
              "    .dataframe tbody tr th {\n",
              "        vertical-align: top;\n",
              "    }\n",
              "\n",
              "    .dataframe thead th {\n",
              "        text-align: right;\n",
              "    }\n",
              "</style>\n",
              "<table border=\"1\" class=\"dataframe\">\n",
              "  <thead>\n",
              "    <tr style=\"text-align: right;\">\n",
              "      <th></th>\n",
              "      <th>diff</th>\n",
              "    </tr>\n",
              "  </thead>\n",
              "  <tbody>\n",
              "    <tr>\n",
              "      <th>count</th>\n",
              "      <td>100</td>\n",
              "    </tr>\n",
              "    <tr>\n",
              "      <th>mean</th>\n",
              "      <td>9 days 13:50:56.440000</td>\n",
              "    </tr>\n",
              "    <tr>\n",
              "      <th>std</th>\n",
              "      <td>3 days 13:03:21.195525489</td>\n",
              "    </tr>\n",
              "    <tr>\n",
              "      <th>min</th>\n",
              "      <td>1 days 01:34:04</td>\n",
              "    </tr>\n",
              "    <tr>\n",
              "      <th>25%</th>\n",
              "      <td>7 days 00:38:59.750000</td>\n",
              "    </tr>\n",
              "    <tr>\n",
              "      <th>50%</th>\n",
              "      <td>9 days 11:40:33.500000</td>\n",
              "    </tr>\n",
              "    <tr>\n",
              "      <th>75%</th>\n",
              "      <td>11 days 21:09:11.250000</td>\n",
              "    </tr>\n",
              "    <tr>\n",
              "      <th>max</th>\n",
              "      <td>17 days 02:43:04</td>\n",
              "    </tr>\n",
              "  </tbody>\n",
              "</table>\n",
              "</div><br><label><b>dtype:</b> object</label>"
            ]
          },
          "metadata": {},
          "execution_count": 21
        }
      ]
    },
    {
      "cell_type": "code",
      "source": [
        "# returns the sorted list of the cases, and time in second in my case -> smallest in a log\n",
        "# so convert it into the hours by dividing to 3600\n",
        "import numpy as np\n",
        "hours = [i//3600 for i in case_durations]\n",
        "days = [i//24 for i in hours]\n",
        "print(min(hours), max(hours), np.mean(hours))\n",
        "print(min(days), max(days), np.mean(days))\n",
        "# we got similar results by the manual calculations - confirmed"
      ],
      "metadata": {
        "colab": {
          "base_uri": "https://localhost:8080/"
        },
        "id": "-4pxM_R9HYwC",
        "outputId": "3b3df493-d8db-43f4-b522-43b0ad7abca1"
      },
      "execution_count": 22,
      "outputs": [
        {
          "output_type": "stream",
          "name": "stdout",
          "text": [
            "25.0 410.0 229.34\n",
            "1.0 17.0 9.06\n"
          ]
        }
      ]
    },
    {
      "cell_type": "code",
      "source": [
        "#durationof individual case - for example patient 0\n",
        "duration = pm4py.get_case_duration(\n",
        "    log_dataframe,\n",
        "    'patient 0',\n",
        "    activity_key='concept:name',\n",
        "    case_id_key='case:concept:name',\n",
        "    timestamp_key='time:timestamp'\n",
        ")"
      ],
      "metadata": {
        "id": "h9csleMaGq97"
      },
      "execution_count": 23,
      "outputs": []
    },
    {
      "cell_type": "code",
      "source": [
        "# dusration is in seconds\n",
        "duration"
      ],
      "metadata": {
        "colab": {
          "base_uri": "https://localhost:8080/"
        },
        "id": "Fq_glHnvGq7P",
        "outputId": "243e7af3-d5fd-4e66-e2fb-8b82d9bb0459"
      },
      "execution_count": 24,
      "outputs": [
        {
          "output_type": "execute_result",
          "data": {
            "text/plain": [
              "593357.0"
            ]
          },
          "metadata": {},
          "execution_count": 24
        }
      ]
    },
    {
      "cell_type": "code",
      "source": [
        "# llm models in abstracting & describing event logs\n",
        "# here as a directed follow graph\n",
        "print(pm4py.llm.abstract_dfg(log_dataframe))"
      ],
      "metadata": {
        "colab": {
          "base_uri": "https://localhost:8080/"
        },
        "id": "nbLZMZpe1u4A",
        "outputId": "75cada3b-3591-4260-b19e-6dbd7066e17d"
      },
      "execution_count": 25,
      "outputs": [
        {
          "output_type": "stream",
          "name": "stdout",
          "text": [
            "If I have a process with flow:\n",
            "\n",
            "Second consult -> Medicine ( frequency = 80  performance = 32710.838 )\n",
            "Medicine -> Final consult ( frequency = 80  performance = 184820.638 )\n",
            "First consult -> Blood test ( frequency = 40  performance = 12757.125 )\n",
            "Physical test -> Second consult ( frequency = 36  performance = 239256.944 )\n",
            "Blood test -> Physical test ( frequency = 35  performance = 45691.286 )\n",
            "Physical test -> Blood test ( frequency = 33  performance = 3961.212 )\n",
            "First consult -> Physical test ( frequency = 33  performance = 132227.788 )\n",
            "Blood test -> Second consult ( frequency = 33  performance = 226172.455 )\n",
            "X-ray scan -> Physical test ( frequency = 32  performance = 22734.906 )\n",
            "Blood test -> X-ray scan ( frequency = 32  performance = 260529.281 )\n",
            "X-ray scan -> Second consult ( frequency = 31  performance = 286292.097 )\n",
            "Physical test -> X-ray scan ( frequency = 31  performance = 190922.129 )\n",
            "X-ray scan -> Blood test ( frequency = 27  performance = 2595.852 )\n",
            "First consult -> X-ray scan ( frequency = 27  performance = 314445.259 )\n",
            "Surgery -> Final consult ( frequency = 20  performance = 172923.100 )\n",
            "Second consult -> Surgery ( frequency = 20  performance = 339290.050 )\n",
            "\n",
            "\n",
            "\n"
          ]
        }
      ]
    },
    {
      "cell_type": "code",
      "source": [
        "# here llm used for the describing all the varience of the log, with it frequencies and performance.\n",
        "print(pm4py.llm.abstract_variants(log_dataframe))"
      ],
      "metadata": {
        "colab": {
          "base_uri": "https://localhost:8080/"
        },
        "id": "My_v1OzX1u06",
        "outputId": "16db06ca-ede3-4de3-d7a3-2b407b546698"
      },
      "execution_count": 26,
      "outputs": [
        {
          "output_type": "stream",
          "name": "stdout",
          "text": [
            "If I have a process with the following process variants:\n",
            "\n",
            " First consult -> Blood test -> X-ray scan -> Physical test -> Second consult -> Medicine -> Final consult ( frequency = 18  performance = 726449.222 )\n",
            " First consult -> Blood test -> Physical test -> X-ray scan -> Second consult -> Medicine -> Final consult ( frequency = 14  performance = 795889.286 )\n",
            " First consult -> X-ray scan -> Physical test -> Blood test -> Second consult -> Medicine -> Final consult ( frequency = 12  performance = 738731.167 )\n",
            " First consult -> Physical test -> X-ray scan -> Blood test -> Second consult -> Medicine -> Final consult ( frequency = 11  performance = 849734.455 )\n",
            " First consult -> Physical test -> Blood test -> X-ray scan -> Second consult -> Medicine -> Final consult ( frequency = 10  performance = 859611.500 )\n",
            " First consult -> X-ray scan -> Blood test -> Physical test -> Second consult -> Medicine -> Final consult ( frequency = 9  performance = 771375.778 )\n",
            " First consult -> X-ray scan -> Blood test -> Physical test -> Second consult -> Surgery -> Final consult ( frequency = 4  performance = 1335325.500 )\n",
            " First consult -> Physical test -> Blood test -> X-ray scan -> Second consult -> Surgery -> Final consult ( frequency = 4  performance = 896334.500 )\n",
            " First consult -> Blood test -> Physical test -> X-ray scan -> Second consult -> Surgery -> Final consult ( frequency = 3  performance = 1406127.333 )\n",
            " First consult -> Physical test -> X-ray scan -> Blood test -> Second consult -> Surgery -> Final consult ( frequency = 3  performance = 949199.667 )\n",
            " First consult -> Physical test -> Blood test -> Second consult -> Medicine -> Final consult ( frequency = 3  performance = 570036.333 )\n",
            " First consult -> Blood test -> Physical test -> Second consult -> Medicine -> Final consult ( frequency = 3  performance = 543704.667 )\n",
            " First consult -> X-ray scan -> Physical test -> Blood test -> Second consult -> Surgery -> Final consult ( frequency = 2  performance = 1172431.500 )\n",
            " First consult -> Physical test -> Blood test -> Second consult -> Surgery -> Final consult ( frequency = 2  performance = 775214.000 )\n",
            " First consult -> Blood test -> Physical test -> Second consult -> Surgery -> Final consult ( frequency = 2  performance = 773811.500 )\n",
            "\n",
            "\n",
            "\n"
          ]
        }
      ]
    },
    {
      "cell_type": "markdown",
      "source": [
        "### Process discovery"
      ],
      "metadata": {
        "id": "cdYv-Y8DDozT"
      }
    },
    {
      "cell_type": "code",
      "source": [
        "# inductive miner\n",
        "# let's print the process tree -> please see the medium post on how to read it\n",
        "process_tree = pm4py.discover_process_tree_inductive(log_dataframe)\n",
        "pm4py.vis.view_process_tree(process_tree)\n",
        "pm4py.vis.save_vis_process_tree(process_tree, \"PrecessTreeInductiveMiner.png\")\n"
      ],
      "metadata": {
        "colab": {
          "base_uri": "https://localhost:8080/",
          "height": 382
        },
        "id": "eozTYgRh6Z77",
        "outputId": "4fa41917-630d-4db5-83de-e21a342dff1b"
      },
      "execution_count": 27,
      "outputs": [
        {
          "output_type": "display_data",
          "data": {
            "image/png": "[encoded data removed]",
            "text/plain": [
              "<IPython.core.display.Image object>"
            ]
          },
          "metadata": {}
        },
        {
          "output_type": "execute_result",
          "data": {
            "text/plain": [
              "''"
            ],
            "application/vnd.google.colaboratory.intrinsic+json": {
              "type": "string"
            }
          },
          "metadata": {},
          "execution_count": 27
        }
      ]
    },
    {
      "cell_type": "code",
      "source": [
        "# we can convert the process tree to the bpmn\n",
        "bpmn_model = pm4py.convert_to_bpmn(process_tree)\n",
        "pm4py.view_bpmn(bpmn_model)\n",
        "pm4py.vis.save_vis_bpmn(bpmn_model, \"bpmn.png\")"
      ],
      "metadata": {
        "colab": {
          "base_uri": "https://localhost:8080/",
          "height": 160
        },
        "id": "rEVglEQDVYkI",
        "outputId": "210e219f-e0bf-4cad-d612-b34d581345e6"
      },
      "execution_count": 28,
      "outputs": [
        {
          "output_type": "display_data",
          "data": {
            "image/png": "[encoded data removed]",
            "text/plain": [
              "<IPython.core.display.Image object>"
            ]
          },
          "metadata": {}
        },
        {
          "output_type": "execute_result",
          "data": {
            "text/plain": [
              "''"
            ],
            "application/vnd.google.colaboratory.intrinsic+json": {
              "type": "string"
            }
          },
          "metadata": {},
          "execution_count": 28
        }
      ]
    },
    {
      "cell_type": "code",
      "source": [
        "# Heuristic miner\n",
        "\n",
        "hn = pm4py.discovery.discover_heuristics_net(log_dataframe, dependency_threshold=0.9,\n",
        "                                             and_threshold=0.9, loop_two_threshold= 0.9)\n",
        "\n",
        "pm4py.vis.view_heuristics_net(hn)\n",
        "pm4py.vis.save_vis_heuristics_net(hn, \"heuristics_net_frequency.png\")\n",
        "# by default the decorator is frequency of the event"
      ],
      "metadata": {
        "colab": {
          "base_uri": "https://localhost:8080/",
          "height": 790
        },
        "id": "E4LKrvjT_3Lb",
        "outputId": "61dfeae5-a355-4574-e207-7b2b9e9566a9"
      },
      "execution_count": 29,
      "outputs": [
        {
          "output_type": "display_data",
          "data": {
            "image/png": "[encoded data removed]",
            "text/plain": [
              "<IPython.core.display.Image object>"
            ]
          },
          "metadata": {}
        },
        {
          "output_type": "execute_result",
          "data": {
            "text/plain": [
              "''"
            ],
            "application/vnd.google.colaboratory.intrinsic+json": {
              "type": "string"
            }
          },
          "metadata": {},
          "execution_count": 29
        }
      ]
    },
    {
      "cell_type": "code",
      "source": [
        "hn = pm4py.discovery.discover_heuristics_net(log_dataframe, dependency_threshold=0.9,\n",
        "                                             and_threshold=0.9, loop_two_threshold= 0.9,\n",
        "                                             decoration='performance')\n",
        "\n",
        "pm4py.vis.view_heuristics_net(hn)\n",
        "pm4py.vis.save_vis_heuristics_net(hn, \"heuristics_net_performance.png\")"
      ],
      "metadata": {
        "colab": {
          "base_uri": "https://localhost:8080/",
          "height": 752
        },
        "id": "tl-SEro0Gqwi",
        "outputId": "5700a030-8639-4e09-f423-819933013b0e"
      },
      "execution_count": 30,
      "outputs": [
        {
          "output_type": "display_data",
          "data": {
            "image/png": "[encoded data removed]",
            "text/plain": [
              "<IPython.core.display.Image object>"
            ]
          },
          "metadata": {}
        },
        {
          "output_type": "execute_result",
          "data": {
            "text/plain": [
              "''"
            ],
            "application/vnd.google.colaboratory.intrinsic+json": {
              "type": "string"
            }
          },
          "metadata": {},
          "execution_count": 30
        }
      ]
    },
    {
      "cell_type": "markdown",
      "source": [
        "## Token based replay - to observe the fitness KPI"
      ],
      "metadata": {
        "id": "v40XOhOetpil"
      }
    },
    {
      "cell_type": "code",
      "source": [
        "# let's generate the Petri net form inductive miner\n",
        "pn, im, fm = pm4py.discover_petri_net_inductive(log_dataframe)\n",
        "# observe the fitness of the model by token replay method ( the most common one)\n",
        "pm4py.fitness_token_based_replay(log_dataframe, pn, im, fm)"
      ],
      "metadata": {
        "colab": {
          "base_uri": "https://localhost:8080/",
          "height": 120,
          "referenced_widgets": [
            "0308f96cee284bd380e33b8cc6617852",
            "ac9102d8c23642a9996a679e14cc760b",
            "a681c6c24eff409693d92bad9f173d2f",
            "4bb834e2e12b44fc8642aecfb22495d5",
            "d117bd3ba2cb4ab08bc8c8a7ad05f369",
            "57d9427d9ff4468486d8795ae60be17d",
            "70c8ba3d944d47aa9b233a73862a5bcb",
            "27fc076ad37c4320a5284c7495f3fe46",
            "93dab8cf171542cf9fd0f4906558f2e5",
            "4a72fb5b50ca46699c2e3628b7186ec0",
            "8feadd6ec50e447bac3128310f9b6e67"
          ]
        },
        "id": "Ek1iOjLAFmja",
        "outputId": "8ababd3d-5577-49ce-d3f2-2fd3d0cee652"
      },
      "execution_count": 32,
      "outputs": [
        {
          "output_type": "display_data",
          "data": {
            "text/plain": [
              "replaying log with TBR, completed traces ::   0%|          | 0/15 [00:00<?, ?it/s]"
            ],
            "application/vnd.jupyter.widget-view+json": {
              "version_major": 2,
              "version_minor": 0,
              "model_id": "0308f96cee284bd380e33b8cc6617852"
            }
          },
          "metadata": {}
        },
        {
          "output_type": "execute_result",
          "data": {
            "text/plain": [
              "{'perc_fit_traces': 100.0,\n",
              " 'average_trace_fitness': 1.0,\n",
              " 'log_fitness': 1.0,\n",
              " 'percentage_of_fitting_traces': 100.0}"
            ]
          },
          "metadata": {},
          "execution_count": 32
        }
      ]
    },
    {
      "cell_type": "markdown",
      "source": [
        "## Dotted chart"
      ],
      "metadata": {
        "id": "dZOkEs-d3tZu"
      }
    },
    {
      "cell_type": "code",
      "source": [
        "pm4py.vis.view_dotted_chart(log_dataframe, show_legend = False)"
      ],
      "metadata": {
        "colab": {
          "base_uri": "https://localhost:8080/",
          "height": 726
        },
        "id": "FIHnTKBUCisQ",
        "outputId": "5377f094-15a4-4120-ace3-c8de90dd08f3"
      },
      "execution_count": 36,
      "outputs": [
        {
          "output_type": "display_data",
          "data": {
            "image/png": "[encoded data removed]",
            "text/plain": [
              "<IPython.core.display.Image object>"
            ]
          },
          "metadata": {}
        }
      ]
    },
    {
      "cell_type": "code",
      "source": [
        "pm4py.vis.save_vis_dotted_chart(log_dataframe, \"dotted_chart.png\")"
      ],
      "metadata": {
        "colab": {
          "base_uri": "https://localhost:8080/",
          "height": 35
        },
        "id": "wqOrITxlJAwv",
        "outputId": "835895e5-fad7-4978-e339-b438c8f17ea9"
      },
      "execution_count": 37,
      "outputs": [
        {
          "output_type": "execute_result",
          "data": {
            "text/plain": [
              "''"
            ],
            "application/vnd.google.colaboratory.intrinsic+json": {
              "type": "string"
            }
          },
          "metadata": {},
          "execution_count": 37
        }
      ]
    },
    {
      "cell_type": "code",
      "source": [],
      "metadata": {
        "id": "WkI1HnLRthbh"
      },
      "execution_count": null,
      "outputs": []
    },
    {
      "cell_type": "code",
      "source": [],
      "metadata": {
        "id": "tG_F0m1xthVh"
      },
      "execution_count": null,
      "outputs": []
    }
  ]
}